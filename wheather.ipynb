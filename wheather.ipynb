{
  "nbformat": 4,
  "nbformat_minor": 0,
  "metadata": {
    "colab": {
      "provenance": []
    },
    "kernelspec": {
      "name": "python3",
      "display_name": "Python 3"
    },
    "language_info": {
      "name": "python"
    }
  },
  "cells": [
    {
      "cell_type": "code",
      "execution_count": 1,
      "metadata": {
        "colab": {
          "base_uri": "https://localhost:8080/"
        },
        "id": "_XOm_REvAOim",
        "outputId": "8b6fb9f7-c217-4798-8955-c5a5c19cf6fb"
      },
      "outputs": [
        {
          "output_type": "stream",
          "name": "stdout",
          "text": [
            "Enter Cityjaipur\n",
            "The Weather in jaipur is: Haze\n",
            "The Temperature in jaipur is: 89°C\n",
            "The Description in jaipur is: haze\n",
            "The Humidity in jaipur is: 62%\n",
            "The Wind Speed in jaipur is: 6.91 M/S\n"
          ]
        }
      ],
      "source": [
        "\n",
        "\n",
        "api_key = '38ae0e96895ba153e00f82bb193b2152'\n",
        "import requests\n",
        "user_input = input(\"Enter City\")\n",
        "weather_data = requests.get(\n",
        "    f\"https://api.openweathermap.org/data/2.5/weather?\"\n",
        "    f\"q={user_input}&units=imperial&APPID={api_key}\")\n",
        "\n",
        "if weather_data.json()['cod'] == '404':\n",
        "    print(\"City name is not found\")\n",
        "else:\n",
        "    weather = weather_data.json()['weather'][0]['main']\n",
        "    temp = round(weather_data.json()['main']['temp'])\n",
        "    description = weather_data.json()['weather'][0]['description']\n",
        "    humidity = weather_data.json()['main']['humidity']\n",
        "    wind_speed = weather_data.json()['wind']['speed']\n",
        "    print(f\"The Weather in {user_input} is: {weather}\")\n",
        "    print(f\"The Temperature in {user_input} is: {temp}°C\")\n",
        "    print(f\"The Description in {user_input} is: {description}\")\n",
        "    print(f\"The Humidity in {user_input} is: {humidity}%\")\n",
        "    print(f\"The Wind Speed in {user_input} is: {wind_speed} M/S\")"
      ]
    }
  ]
}
